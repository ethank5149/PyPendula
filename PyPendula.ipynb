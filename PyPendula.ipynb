{
 "cells": [
  {
   "cell_type": "code",
   "execution_count": 4,
   "metadata": {},
   "outputs": [],
   "source": [
    "from sympy.physics.mechanics import *\n",
    "from sympy import symbols, sin, cos, atan, Matrix\n",
    "\n",
    "N = 3\n",
    "\n",
    "q = dynamicsymbols(f'q:{N}')\n",
    "dq = dynamicsymbols(f'q:{N}', level=1)\n",
    "p = dynamicsymbols(f'p:{N}')\n",
    "dp = dynamicsymbols(f'p:{N}', level=1)\n",
    "m = symbols(f'm:{N}')\n",
    "l = symbols(f'l:{N}')\n",
    "g, t = symbols('g t')\n",
    "\n",
    "q1, q2 = dynamicsymbols('q1:3')\n",
    "q1d, q2d = dynamicsymbols('q1:3', level=1)\n",
    "L, m, g, t = symbols('L, m, g, t')\n",
    "\n",
    "\n",
    "\n",
    "# Compose World Frame\n",
    "O = ReferenceFrame('O')\n",
    "pO = Point('O*')\n",
    "pO.set_vel(O, 0)\n",
    "\n",
    "# A.x is along the pendulum\n",
    "A = O.orientnew('A', 'axis', [q1, O.z])\n",
    "\n",
    "# Create point P, the pendulum mass\n",
    "P = pO.locatenew('P1', L * sin(q1) * O.x + L * cos(q1) * O.y)\n",
    "P.set_vel(O, P.pos_from(pO).dt(O))\n",
    "pP = Particle('pP', P, m)\n",
    "\n",
    "# Calculate the lagrangian, and form the equations of motion\n",
    "L = Lagrangian(O, pP)\n",
    "LM = LagrangesMethod(L, [q1], forcelist=[(P, m*g*O.x)], frame=O)\n",
    "lag_eqs = LM.form_lagranges_equations()\n",
    "\n",
    "\n",
    "\n",
    "\n",
    "\n",
    "    "
   ]
  }
 ],
 "metadata": {
  "kernelspec": {
   "display_name": "Python 3 (ipykernel)",
   "language": "python",
   "name": "python3"
  },
  "language_info": {
   "codemirror_mode": {
    "name": "ipython",
    "version": 3
   },
   "file_extension": ".py",
   "mimetype": "text/x-python",
   "name": "python",
   "nbconvert_exporter": "python",
   "pygments_lexer": "ipython3",
   "version": "3.11.8"
  }
 },
 "nbformat": 4,
 "nbformat_minor": 4
}
