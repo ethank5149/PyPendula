{
 "cells": [
  {
   "cell_type": "code",
   "execution_count": 4,
   "metadata": {},
   "outputs": [],
   "source": [
    "from sympy.physics.mechanics import *\n",
    "from sympy import symbols, sin, cos, atan, Matrix\n",
    "q1, q2 = dynamicsymbols('q1:3')\n",
    "q1d, q2d = dynamicsymbols('q1:3', level=1)\n",
    "L, m, g, t = symbols('L, m, g, t')\n",
    "\n",
    "\n",
    "\n",
    "# Compose World Frame\n",
    "N = ReferenceFrame('N')\n",
    "pN = Point('N*')\n",
    "pN.set_vel(N, 0)\n",
    "\n",
    "# A.x is along the pendulum\n",
    "A = N.orientnew('A', 'axis', [q1, N.z])\n",
    "\n",
    "# Create point P, the pendulum mass\n",
    "P = pN.locatenew('P1', L * sin(q1) * N.x + L * cos(q1) * N.y)\n",
    "P.set_vel(N, P.pos_from(pN).dt(N))\n",
    "pP = Particle('pP', P, m)\n",
    "\n",
    "# Calculate the lagrangian, and form the equations of motion\n",
    "L = Lagrangian(N, pP)\n",
    "LM = LagrangesMethod(L, [q1], forcelist=[(P, m*g*N.x)], frame=N)\n",
    "lag_eqs = LM.form_lagranges_equations()\n",
    "\n",
    "\n",
    "\n",
    "\n",
    "q = mechanics.dynamicsymbols(f'q:{n}')\n",
    "p = mechanics.dynamicsymbols(f'p:{n}')\n",
    "\n",
    "m = symbols(f'm:{n}')\n",
    "l = symbols(f'l:{n}')\n",
    "g, t = symbols('g,t')\n",
    "    "
   ]
  }
 ],
 "metadata": {
  "kernelspec": {
   "display_name": "Python 3 (ipykernel)",
   "language": "python",
   "name": "python3"
  },
  "language_info": {
   "codemirror_mode": {
    "name": "ipython",
    "version": 3
   },
   "file_extension": ".py",
   "mimetype": "text/x-python",
   "name": "python",
   "nbconvert_exporter": "python",
   "pygments_lexer": "ipython3",
   "version": "3.11.8"
  }
 },
 "nbformat": 4,
 "nbformat_minor": 4
}
