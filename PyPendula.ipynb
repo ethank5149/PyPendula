{
 "cells": [
  {
   "cell_type": "code",
   "execution_count": 1,
   "metadata": {},
   "outputs": [],
   "source": [
    "from pypendula import PyPendula\n",
    "from matplotlib import pyplot as plt\n",
    "from matplotlib.pyplot import cm\n",
    "import numpy as np"
   ]
  },
  {
   "cell_type": "code",
   "execution_count": 2,
   "metadata": {},
   "outputs": [],
   "source": [
    "FPS = 60\n",
    "T_F = 1000\n",
    "\n",
    "ALPHA = 2\n",
    "BETA = 4096\n",
    "\n",
    "ICS2 = np.array([ 0, np.pi / 2, 0, 0])\n",
    "ICS3 = np.array([np.pi / 6, np.pi / 5, np.pi / 4, 0, 0, 0])"
   ]
  },
  {
   "cell_type": "code",
   "execution_count": 55,
   "metadata": {},
   "outputs": [
    {
     "name": "stdout",
     "output_type": "stream",
     "text": [
      "Solving Numeric Problem... Done!\n"
     ]
    }
   ],
   "source": [
    "p2 = PyPendula(N=2, fps=FPS, t_f=T_F, ics=ICS2)\n",
    "p2.plot_poincare_section()"
   ]
  },
  {
   "cell_type": "code",
   "execution_count": 8,
   "metadata": {},
   "outputs": [
    {
     "name": "stdout",
     "output_type": "stream",
     "text": [
      "Solving Numeric Problem... Done!\n"
     ]
    }
   ],
   "source": [
    "p3 = PyPendula(fps=FPS, t_f=T_F, ics=ICS3)\n",
    "p3.plot_poincare_section()\n",
    "\n",
    "# p.solve_symbolic()\n",
    "# p.simulate()"
   ]
  },
  {
   "cell_type": "code",
   "execution_count": 3,
   "metadata": {},
   "outputs": [
    {
     "name": "stdout",
     "output_type": "stream",
     "text": [
      "Solving Numeric Problem... "
     ]
    },
    {
     "name": "stdout",
     "output_type": "stream",
     "text": [
      "Done!\n",
      "Solving Numeric Problem... Done!\n",
      "Solving Numeric Problem... Done!\n",
      "Solving Numeric Problem... Done!\n",
      "Solving Numeric Problem... Done!\n",
      "Solving Numeric Problem... Done!\n",
      "Solving Numeric Problem... Done!\n",
      "Solving Numeric Problem... Done!\n",
      "Solving Numeric Problem... Done!\n",
      "Solving Numeric Problem... Done!\n"
     ]
    }
   ],
   "source": [
    "N = 8\n",
    "fig, ax = plt.subplots(1, 1, layout=\"constrained\", figsize=(19.2, 10.80))\n",
    "\n",
    "ax.set_title('PyPendula Poincare Section')\n",
    "ax.set_xlabel(r'$q$ [rad]')\n",
    "ax.set_ylabel(r'$p$ [rad]/[s]')\n",
    "    \n",
    "color = cm.rainbow(np.linspace(0, 1, 10))\n",
    "for i, c in enumerate(color):\n",
    "    p = PyPendula(fps=FPS, t_f=T_F)\n",
    "    p.solve_numeric()                \n",
    "    ax.scatter(p.poincare_q, p.poincare_p, lw=0.5, color=c)\n",
    "\n",
    "plt.savefig(f'./results/pypendula_n{p.N}_poincare_section.png')\n",
    "plt.close()"
   ]
  },
  {
   "cell_type": "code",
   "execution_count": null,
   "metadata": {},
   "outputs": [],
   "source": [
    "from sympy.physics.mechanics import *\n",
    "from sympy import symbols, sin, cos, atan, Matrix, simplify, solve\n",
    "from sympy.utilities import lambdify\n",
    "from functools import partial\n",
    "import numpy as np\n",
    "\n",
    "rng = np.random.default_rng()"
   ]
  },
  {
   "cell_type": "code",
   "execution_count": null,
   "metadata": {},
   "outputs": [],
   "source": [
    "N = 2\n",
    "\n",
    "q = dynamicsymbols(f'q:{N}')\n",
    "p = dynamicsymbols(f'p:{N}')\n",
    "dq = dynamicsymbols(f'q:{N}', level=1)\n",
    "dp = dynamicsymbols(f'p:{N}', level=1)\n",
    "m = symbols(f'm:{N}')\n",
    "l = symbols(f'l:{N}')\n",
    "c, g, t = symbols('c g t')\n",
    "\n",
    "# Compose World Frame\n",
    "O = ReferenceFrame('O')\n",
    "pin = Point('O*')\n",
    "pin.set_vel(O, 0)\n",
    "\n",
    "# Initial Mass\n",
    "points = [pin.locatenew(f'P_0', l[0] * sin(q[0]) * O.x + l[0] * cos(q[0]) * O.y),]\n",
    "points[0].set_vel(O, points[0].pos_from(pin).dt(O))\n",
    "particles = [Particle(f'pP_0', points[0], m[0]),]\n",
    "particles[0].potential_energy = -m[0] * g * points[0].pos_from(pin).dot(O.y)\n",
    "\n",
    "for i in range(1, N):\n",
    "    points.append(pin.locatenew(f'P_{i}', \n",
    "        points[i - 1].pos_from(pin) + l[i] * sin(q[i]) * O.x + l[i] * cos(q[i]) * O.y)\n",
    "    )\n",
    "    points[i].set_vel(O, points[i].pos_from(pin).dt(O))\n",
    "    particles.append(Particle(f'pP_{i}', points[i], m[i]))\n",
    "    particles[i].potential_energy = m[i] * g * points[i].pos_from(pin).dot(O.y)\n",
    "\n",
    "L = Lagrangian(O, *particles)\n",
    "LM = LagrangesMethod(L, q, frame=O)  # , forcelist=[(P, -c * P.vel(O))])"
   ]
  },
  {
   "cell_type": "code",
   "execution_count": null,
   "metadata": {},
   "outputs": [],
   "source": [
    "EL = simplify(LM.form_lagranges_equations().subs([(dq[_], p[_]) for _ in range(N)]))\n",
    "EL"
   ]
  },
  {
   "cell_type": "code",
   "execution_count": null,
   "metadata": {},
   "outputs": [],
   "source": [
    "EOM = simplify(LM.eom.subs([(dq[_], p[_]) for _ in range(N)]))\n",
    "EOM"
   ]
  },
  {
   "cell_type": "code",
   "execution_count": null,
   "metadata": {},
   "outputs": [],
   "source": [
    "solved_EOM = Matrix(list(solve(EOM, *dp).values()))\n",
    "solved_EOM"
   ]
  }
 ],
 "metadata": {
  "kernelspec": {
   "display_name": "Python 3 (ipykernel)",
   "language": "python",
   "name": "python3"
  },
  "language_info": {
   "codemirror_mode": {
    "name": "ipython",
    "version": 3
   },
   "file_extension": ".py",
   "mimetype": "text/x-python",
   "name": "python",
   "nbconvert_exporter": "python",
   "pygments_lexer": "ipython3",
   "version": "3.11.7"
  }
 },
 "nbformat": 4,
 "nbformat_minor": 4
}
