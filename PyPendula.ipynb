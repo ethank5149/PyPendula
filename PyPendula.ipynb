{
 "cells": [
  {
   "cell_type": "code",
   "execution_count": 1,
   "metadata": {},
   "outputs": [],
   "source": [
    "from pypendula import PyPendula"
   ]
  },
  {
   "cell_type": "markdown",
   "metadata": {},
   "source": [
    "#### $n=1$"
   ]
  },
  {
   "cell_type": "code",
   "execution_count": 2,
   "metadata": {},
   "outputs": [
    {
     "data": {
      "text/latex": [
       "$\\displaystyle \\left[\\begin{matrix}\\sin{\\left(q{\\left(t \\right)} \\right)} + \\frac{d^{2}}{d t^{2}} q{\\left(t \\right)}\\end{matrix}\\right]$"
      ],
      "text/plain": [
       "Matrix([[sin(q(t)) + Derivative(q(t), (t, 2))]])"
      ]
     },
     "execution_count": 2,
     "metadata": {},
     "output_type": "execute_result"
    }
   ],
   "source": [
    "pendula1 = PyPendula(N=1, gravity=1, reduce=True)\n",
    "pendula1.eom"
   ]
  },
  {
   "cell_type": "code",
   "execution_count": 3,
   "metadata": {},
   "outputs": [
    {
     "data": {
      "text/latex": [
       "$\\displaystyle \\left[\\begin{matrix}- \\sin{\\left(q{\\left(t \\right)} \\right)}\\end{matrix}\\right]$"
      ],
      "text/plain": [
       "Matrix([[-sin(q(t))]])"
      ]
     },
     "execution_count": 3,
     "metadata": {},
     "output_type": "execute_result"
    }
   ],
   "source": [
    "pendula1.ddq"
   ]
  },
  {
   "cell_type": "markdown",
   "metadata": {},
   "source": [
    "#### $n=2$"
   ]
  },
  {
   "cell_type": "code",
   "execution_count": 4,
   "metadata": {},
   "outputs": [
    {
     "data": {
      "text/latex": [
       "$\\displaystyle \\left[\\begin{matrix}\\frac{\\sin{\\left(q_{0}{\\left(t \\right)} - q_{1}{\\left(t \\right)} \\right)} \\left(\\frac{d}{d t} q_{1}{\\left(t \\right)}\\right)^{2}}{8} + \\frac{\\sin{\\left(q_{0}{\\left(t \\right)} \\right)}}{4} + \\frac{\\cos{\\left(q_{0}{\\left(t \\right)} - q_{1}{\\left(t \\right)} \\right)} \\frac{d^{2}}{d t^{2}} q_{1}{\\left(t \\right)}}{8} + \\frac{\\frac{d^{2}}{d t^{2}} q_{0}{\\left(t \\right)}}{4}\\\\- \\frac{\\sin{\\left(q_{0}{\\left(t \\right)} - q_{1}{\\left(t \\right)} \\right)} \\left(\\frac{d}{d t} q_{0}{\\left(t \\right)}\\right)^{2}}{8} + \\frac{\\sin{\\left(q_{1}{\\left(t \\right)} \\right)}}{4} + \\frac{\\cos{\\left(q_{0}{\\left(t \\right)} - q_{1}{\\left(t \\right)} \\right)} \\frac{d^{2}}{d t^{2}} q_{0}{\\left(t \\right)}}{8} + \\frac{\\frac{d^{2}}{d t^{2}} q_{1}{\\left(t \\right)}}{8}\\end{matrix}\\right]$"
      ],
      "text/plain": [
       "Matrix([\n",
       "[ sin(q0(t) - q1(t))*Derivative(q1(t), t)**2/8 + sin(q0(t))/4 + cos(q0(t) - q1(t))*Derivative(q1(t), (t, 2))/8 + Derivative(q0(t), (t, 2))/4],\n",
       "[-sin(q0(t) - q1(t))*Derivative(q0(t), t)**2/8 + sin(q1(t))/4 + cos(q0(t) - q1(t))*Derivative(q0(t), (t, 2))/8 + Derivative(q1(t), (t, 2))/8]])"
      ]
     },
     "execution_count": 4,
     "metadata": {},
     "output_type": "execute_result"
    }
   ],
   "source": [
    "pendula2 = PyPendula(N=2, gravity=1, reduce=True)\n",
    "pendula2.eom"
   ]
  },
  {
   "cell_type": "code",
   "execution_count": 5,
   "metadata": {},
   "outputs": [
    {
     "data": {
      "text/latex": [
       "$\\displaystyle \\left[\\begin{matrix}- \\frac{\\sin{\\left(q_{0}{\\left(t \\right)} - q_{1}{\\left(t \\right)} \\right)} \\left(\\frac{d}{d t} q_{1}{\\left(t \\right)}\\right)^{2}}{2} - \\sin{\\left(q_{0}{\\left(t \\right)} \\right)} - \\frac{\\cos{\\left(q_{0}{\\left(t \\right)} - q_{1}{\\left(t \\right)} \\right)} \\frac{d^{2}}{d t^{2}} q_{1}{\\left(t \\right)}}{2}\\\\\\sin{\\left(q_{0}{\\left(t \\right)} - q_{1}{\\left(t \\right)} \\right)} \\left(\\frac{d}{d t} q_{0}{\\left(t \\right)}\\right)^{2} - 2 \\sin{\\left(q_{1}{\\left(t \\right)} \\right)} - \\cos{\\left(q_{0}{\\left(t \\right)} - q_{1}{\\left(t \\right)} \\right)} \\frac{d^{2}}{d t^{2}} q_{0}{\\left(t \\right)}\\end{matrix}\\right]$"
      ],
      "text/plain": [
       "Matrix([\n",
       "[-sin(q0(t) - q1(t))*Derivative(q1(t), t)**2/2 - sin(q0(t)) - cos(q0(t) - q1(t))*Derivative(q1(t), (t, 2))/2],\n",
       "[   sin(q0(t) - q1(t))*Derivative(q0(t), t)**2 - 2*sin(q1(t)) - cos(q0(t) - q1(t))*Derivative(q0(t), (t, 2))]])"
      ]
     },
     "execution_count": 5,
     "metadata": {},
     "output_type": "execute_result"
    }
   ],
   "source": [
    "pendula2.ddq"
   ]
  },
  {
   "cell_type": "markdown",
   "metadata": {},
   "source": [
    "#### $n=3$"
   ]
  },
  {
   "cell_type": "code",
   "execution_count": 6,
   "metadata": {},
   "outputs": [
    {
     "data": {
      "text/latex": [
       "$\\displaystyle \\left[\\begin{matrix}\\frac{2 \\sin{\\left(q_{0}{\\left(t \\right)} - q_{1}{\\left(t \\right)} \\right)} \\left(\\frac{d}{d t} q_{1}{\\left(t \\right)}\\right)^{2}}{27} + \\frac{\\sin{\\left(q_{0}{\\left(t \\right)} - q_{2}{\\left(t \\right)} \\right)} \\left(\\frac{d}{d t} q_{2}{\\left(t \\right)}\\right)^{2}}{27} + \\frac{\\sin{\\left(q_{0}{\\left(t \\right)} \\right)}}{9} + \\frac{2 \\cos{\\left(q_{0}{\\left(t \\right)} - q_{1}{\\left(t \\right)} \\right)} \\frac{d^{2}}{d t^{2}} q_{1}{\\left(t \\right)}}{27} + \\frac{\\cos{\\left(q_{0}{\\left(t \\right)} - q_{2}{\\left(t \\right)} \\right)} \\frac{d^{2}}{d t^{2}} q_{2}{\\left(t \\right)}}{27} + \\frac{\\frac{d^{2}}{d t^{2}} q_{0}{\\left(t \\right)}}{9}\\\\- \\frac{2 \\sin{\\left(q_{0}{\\left(t \\right)} - q_{1}{\\left(t \\right)} \\right)} \\left(\\frac{d}{d t} q_{0}{\\left(t \\right)}\\right)^{2}}{27} + \\frac{\\sin{\\left(q_{1}{\\left(t \\right)} - q_{2}{\\left(t \\right)} \\right)} \\left(\\frac{d}{d t} q_{2}{\\left(t \\right)}\\right)^{2}}{27} + \\frac{\\sin{\\left(q_{1}{\\left(t \\right)} \\right)}}{9} + \\frac{2 \\cos{\\left(q_{0}{\\left(t \\right)} - q_{1}{\\left(t \\right)} \\right)} \\frac{d^{2}}{d t^{2}} q_{0}{\\left(t \\right)}}{27} + \\frac{\\cos{\\left(q_{1}{\\left(t \\right)} - q_{2}{\\left(t \\right)} \\right)} \\frac{d^{2}}{d t^{2}} q_{2}{\\left(t \\right)}}{27} + \\frac{2 \\frac{d^{2}}{d t^{2}} q_{1}{\\left(t \\right)}}{27}\\\\- \\frac{\\sin{\\left(q_{0}{\\left(t \\right)} - q_{2}{\\left(t \\right)} \\right)} \\left(\\frac{d}{d t} q_{0}{\\left(t \\right)}\\right)^{2}}{27} - \\frac{\\sin{\\left(q_{1}{\\left(t \\right)} - q_{2}{\\left(t \\right)} \\right)} \\left(\\frac{d}{d t} q_{1}{\\left(t \\right)}\\right)^{2}}{27} + \\frac{\\sin{\\left(q_{2}{\\left(t \\right)} \\right)}}{9} + \\frac{\\cos{\\left(q_{0}{\\left(t \\right)} - q_{2}{\\left(t \\right)} \\right)} \\frac{d^{2}}{d t^{2}} q_{0}{\\left(t \\right)}}{27} + \\frac{\\cos{\\left(q_{1}{\\left(t \\right)} - q_{2}{\\left(t \\right)} \\right)} \\frac{d^{2}}{d t^{2}} q_{1}{\\left(t \\right)}}{27} + \\frac{\\frac{d^{2}}{d t^{2}} q_{2}{\\left(t \\right)}}{27}\\end{matrix}\\right]$"
      ],
      "text/plain": [
       "Matrix([\n",
       "[    2*sin(q0(t) - q1(t))*Derivative(q1(t), t)**2/27 + sin(q0(t) - q2(t))*Derivative(q2(t), t)**2/27 + sin(q0(t))/9 + 2*cos(q0(t) - q1(t))*Derivative(q1(t), (t, 2))/27 + cos(q0(t) - q2(t))*Derivative(q2(t), (t, 2))/27 + Derivative(q0(t), (t, 2))/9],\n",
       "[-2*sin(q0(t) - q1(t))*Derivative(q0(t), t)**2/27 + sin(q1(t) - q2(t))*Derivative(q2(t), t)**2/27 + sin(q1(t))/9 + 2*cos(q0(t) - q1(t))*Derivative(q0(t), (t, 2))/27 + cos(q1(t) - q2(t))*Derivative(q2(t), (t, 2))/27 + 2*Derivative(q1(t), (t, 2))/27],\n",
       "[      -sin(q0(t) - q2(t))*Derivative(q0(t), t)**2/27 - sin(q1(t) - q2(t))*Derivative(q1(t), t)**2/27 + sin(q2(t))/9 + cos(q0(t) - q2(t))*Derivative(q0(t), (t, 2))/27 + cos(q1(t) - q2(t))*Derivative(q1(t), (t, 2))/27 + Derivative(q2(t), (t, 2))/27]])"
      ]
     },
     "execution_count": 6,
     "metadata": {},
     "output_type": "execute_result"
    }
   ],
   "source": [
    "pendula3 = PyPendula(N=3, gravity=1, reduce=True)\n",
    "pendula3.eom"
   ]
  },
  {
   "cell_type": "code",
   "execution_count": 7,
   "metadata": {},
   "outputs": [
    {
     "data": {
      "text/latex": [
       "$\\displaystyle \\left[\\begin{matrix}- \\frac{2 \\sin{\\left(q_{0}{\\left(t \\right)} - q_{1}{\\left(t \\right)} \\right)} \\left(\\frac{d}{d t} q_{1}{\\left(t \\right)}\\right)^{2}}{3} - \\frac{\\sin{\\left(q_{0}{\\left(t \\right)} - q_{2}{\\left(t \\right)} \\right)} \\left(\\frac{d}{d t} q_{2}{\\left(t \\right)}\\right)^{2}}{3} - \\sin{\\left(q_{0}{\\left(t \\right)} \\right)} - \\frac{2 \\cos{\\left(q_{0}{\\left(t \\right)} - q_{1}{\\left(t \\right)} \\right)} \\frac{d^{2}}{d t^{2}} q_{1}{\\left(t \\right)}}{3} - \\frac{\\cos{\\left(q_{0}{\\left(t \\right)} - q_{2}{\\left(t \\right)} \\right)} \\frac{d^{2}}{d t^{2}} q_{2}{\\left(t \\right)}}{3}\\\\\\sin{\\left(q_{0}{\\left(t \\right)} - q_{1}{\\left(t \\right)} \\right)} \\left(\\frac{d}{d t} q_{0}{\\left(t \\right)}\\right)^{2} - \\frac{\\sin{\\left(q_{1}{\\left(t \\right)} - q_{2}{\\left(t \\right)} \\right)} \\left(\\frac{d}{d t} q_{2}{\\left(t \\right)}\\right)^{2}}{2} - \\frac{3 \\sin{\\left(q_{1}{\\left(t \\right)} \\right)}}{2} - \\cos{\\left(q_{0}{\\left(t \\right)} - q_{1}{\\left(t \\right)} \\right)} \\frac{d^{2}}{d t^{2}} q_{0}{\\left(t \\right)} - \\frac{\\cos{\\left(q_{1}{\\left(t \\right)} - q_{2}{\\left(t \\right)} \\right)} \\frac{d^{2}}{d t^{2}} q_{2}{\\left(t \\right)}}{2}\\\\\\sin{\\left(q_{0}{\\left(t \\right)} - q_{2}{\\left(t \\right)} \\right)} \\left(\\frac{d}{d t} q_{0}{\\left(t \\right)}\\right)^{2} + \\sin{\\left(q_{1}{\\left(t \\right)} - q_{2}{\\left(t \\right)} \\right)} \\left(\\frac{d}{d t} q_{1}{\\left(t \\right)}\\right)^{2} - 3 \\sin{\\left(q_{2}{\\left(t \\right)} \\right)} - \\cos{\\left(q_{0}{\\left(t \\right)} - q_{2}{\\left(t \\right)} \\right)} \\frac{d^{2}}{d t^{2}} q_{0}{\\left(t \\right)} - \\cos{\\left(q_{1}{\\left(t \\right)} - q_{2}{\\left(t \\right)} \\right)} \\frac{d^{2}}{d t^{2}} q_{1}{\\left(t \\right)}\\end{matrix}\\right]$"
      ],
      "text/plain": [
       "Matrix([\n",
       "[-2*sin(q0(t) - q1(t))*Derivative(q1(t), t)**2/3 - sin(q0(t) - q2(t))*Derivative(q2(t), t)**2/3 - sin(q0(t)) - 2*cos(q0(t) - q1(t))*Derivative(q1(t), (t, 2))/3 - cos(q0(t) - q2(t))*Derivative(q2(t), (t, 2))/3],\n",
       "[     sin(q0(t) - q1(t))*Derivative(q0(t), t)**2 - sin(q1(t) - q2(t))*Derivative(q2(t), t)**2/2 - 3*sin(q1(t))/2 - cos(q0(t) - q1(t))*Derivative(q0(t), (t, 2)) - cos(q1(t) - q2(t))*Derivative(q2(t), (t, 2))/2],\n",
       "[           sin(q0(t) - q2(t))*Derivative(q0(t), t)**2 + sin(q1(t) - q2(t))*Derivative(q1(t), t)**2 - 3*sin(q2(t)) - cos(q0(t) - q2(t))*Derivative(q0(t), (t, 2)) - cos(q1(t) - q2(t))*Derivative(q1(t), (t, 2))]])"
      ]
     },
     "execution_count": 7,
     "metadata": {},
     "output_type": "execute_result"
    }
   ],
   "source": [
    "pendula3.ddq"
   ]
  },
  {
   "cell_type": "code",
   "execution_count": null,
   "metadata": {},
   "outputs": [],
   "source": []
  },
  {
   "cell_type": "code",
   "execution_count": null,
   "metadata": {},
   "outputs": [],
   "source": [
    "import dill\n",
    "import numpy as np\n",
    "from functools import partial\n",
    "from scipy.integrate import solve_ivp\n",
    "\n",
    "\n",
    "ICS = np.array([\n",
    "    np.pi / 2, np.pi / 3, np.pi / 4,\n",
    "    np.pi / 16, -np.pi / 16, np.pi / 16\n",
    "])\n",
    "\n",
    "SIM_PARAMS = {\n",
    "    'fps': 30,\n",
    "    'tf': 10\n",
    "}\n",
    "\n",
    "PARAMS = {\n",
    "    'l_0': 1,\n",
    "    'l_1': 1,\n",
    "    'l_2': 1,\n",
    "\n",
    "    'm_0': 1,\n",
    "    'm_1': 1,\n",
    "    'm_2': 1,\n",
    "\n",
    "    'g': 10,\n",
    "}\n",
    "\n",
    "def solve_numeric(N=3, ics=ICS, params=PARAMS, sim_params=SIM_PARAMS, verbose=True):\n",
    "    symbolic_soln = solve_symbolic(verbose=verbose, N=N)\n",
    "    ODEsystem, Hamiltonian = symbolic_soln['ODEsystem'], symbolic_soln['Hamiltonian'] \n",
    "    Kinetic, Potential = symbolic_soln['Kinetic'], symbolic_soln['Potential']\n",
    "\n",
    "    tf, fps = sim_params['tf'], sim_params['fps']\n",
    "    # l, m, g = params['l'], params['m'], params['g']\n",
    "\n",
    "\n",
    "    l = [params[f'l_{_}'] for _ in range(N)]\n",
    "    m = [params[f'm_{_}'] for _ in range(N)]\n",
    "    g = params['g']\n",
    "\n",
    "\n",
    "    frames = tf * fps\n",
    "    dt = tf / frames\n",
    "    t_eval = np.linspace(0, tf, frames)\n",
    "    ode = partial(ODEsystem, **params)\n",
    "    print(ode(0, ics))\n",
    "\n",
    "    sol = solve_ivp(ode, [0, tf], ics, t_eval=t_eval)\n",
    "    q, p = np.split(sol.y, 2)\n",
    "\n",
    "    # Translating coordinates for convenience\n",
    "    x, y = [l[0] * np.sin(q[0])], [- l[0] * np.cos(q[0])]\n",
    "    for i in range(1, N):\n",
    "        x.append(x[i - 1] + l[i] * np.sin(q[i]))\n",
    "        y.append(y[i - 1] - l[i] * np.cos(q[i]))\n",
    "\n",
    "    hamiltonian = Hamiltonian(t_eval, sol.y, *l, *m, g)\n",
    "    kinetic = Kinetic(t_eval, sol.y, *l, *m, g)\n",
    "    potential = Potential(t_eval, sol.y, *l, *m, g)\n",
    "    if verbose: print('Done!')\n",
    "    return [x, y, q, p], [hamiltonian, kinetic, potential]\n",
    "\n",
    "solve_numeric()"
   ]
  },
  {
   "cell_type": "code",
   "execution_count": null,
   "metadata": {},
   "outputs": [],
   "source": [
    "import numpy as np\n",
    "from matplotlib import pyplot as plt\n",
    "from matplotlib.gridspec import GridSpec\n",
    "import matplotlib.animation as animation\n",
    "from scipy.integrate import solve_ivp\n",
    "from functools import partial\n",
    "from tqdm import trange\n",
    "\n",
    "from IPython.display import HTML, Video"
   ]
  },
  {
   "cell_type": "code",
   "execution_count": null,
   "metadata": {},
   "outputs": [],
   "source": [
    "rng = np.random.default_rng()\n",
    "plt.rcParams['animation.ffmpeg_path'] = 'ffmpeg'"
   ]
  },
  {
   "cell_type": "code",
   "execution_count": null,
   "metadata": {},
   "outputs": [],
   "source": [
    "RAND_PARAMS = {\n",
    "    'q_param' : 1 / 3.,  # Ranges from (0.0, 1.0), damping the random initial angles about zero \n",
    "    'p_param' : 1 / 128.,  # Has similar 'damping' effect on initial omegas, although unbounded\n",
    "}\n",
    "DEFAULT_PARAMS = {\n",
    "    'l_0' : 1. / 3.,\n",
    "    'l_1' : 1. / 3.,\n",
    "    'l_2' : 1. / 3.,\n",
    "    'm_0' : 1. / 3.,\n",
    "    'm_1' : 1. / 3.,\n",
    "    'm_2' : 1. / 3.,\n",
    "    'g' : 9.80665,\n",
    "}\n",
    "DEFAULT_ICS = np.array([\n",
    "    -np.pi/6, -np.pi/3, -np.pi/2,\n",
    "     0, 0, 0])"
   ]
  },
  {
   "cell_type": "code",
   "execution_count": null,
   "metadata": {},
   "outputs": [],
   "source": [
    "def progress_bar (\n",
    "        frame,                         # (Required): current frame (Int)\n",
    "        total,                         # (Required): total frames (Int)\n",
    "        prefix = 'Saving animation:',  # (Optional): prefix string (Str)\n",
    "        suffix = '',                   # (Optional): suffix string (Str)\n",
    "        decimals = 1,                  # (Optional): positive number of decimals in percent complete (Int)        \n",
    "        length = 100,                  # (Optional): character length of bar (Int)\n",
    "        fill = '█',                    # (Optional): bar fill character (Str)\n",
    "        printEnd = \"\\r\"                # (Optional): end character (e.g. \"\\r\", \"\\r\\n\") (Str)\n",
    "        ):\n",
    "    iteration = frame + 1\n",
    "    percent = (\"{0:.\" + str(decimals) + \"f}\").format(100 * (iteration / float(total)))  # f\"{100 * (iteration / float(total)):.1f}\"\n",
    "    filledLength = int(length * iteration // total)\n",
    "    bar = fill * filledLength + '-' * (length - filledLength)\n",
    "    print(f'\\r{prefix} |{bar}| {percent}% {suffix}', end = printEnd)\n",
    "    if iteration == total:\n",
    "        print()"
   ]
  },
  {
   "cell_type": "code",
   "execution_count": null,
   "metadata": {},
   "outputs": [],
   "source": [
    "def gen_rand_ics(q_param=RAND_PARAMS['q_param'], p_param=RAND_PARAMS['p_param']):\n",
    "    return np.stack([\n",
    "        q_param * rng.uniform(low=-np.pi, high=np.pi, size=3),\n",
    "        p_param * rng.random(size=3)]).flatten()"
   ]
  },
  {
   "cell_type": "code",
   "execution_count": null,
   "metadata": {},
   "outputs": [],
   "source": []
  },
  {
   "cell_type": "code",
   "execution_count": null,
   "metadata": {},
   "outputs": [],
   "source": [
    "\n",
    "def solve_numeric(tf, fps, ics, params, verbose='info', N=3):\n",
    "    if verbose == 'info': print('\\nChecking for cached solutions... ', end='', flush=True)\n",
    "    try:\n",
    "        ODEsystem = dill.load(open(\"./cache/pypendula_cached_soln\", \"rb\"))\n",
    "        Hamiltonian = dill.load(open(\"./cache/pypendula_cached_h\", \"rb\"))\n",
    "        Kinetic = dill.load(open(\"./cache/pypendula_cached_kinetic\", \"rb\"))\n",
    "        Potential = dill.load(open(\"./cache/pypendula_cached_potential\", \"rb\"))\n",
    "        if verbose == 'info': print('Done! (Solutions found)')\n",
    "    except:\n",
    "        if verbose == 'info': print('Done! (One or more missing)')\n",
    "        if verbose == 'info': print('Solving symbolic problem from scratch... ', end='', flush=True)\n",
    "        ODEsystem, Hamiltonian, Kinetic, Potential = solve_symbolic(verbose=verbose, N=N)\n",
    "\n",
    "    frames = tf * fps\n",
    "    dt = tf / frames\n",
    "    t_eval = np.linspace(0, tf, frames)\n",
    "    ode = partial(ODEsystem, **params)\n",
    "    sol = solve_ivp(ode, [0, tf], ics, t_eval=t_eval)\n",
    "\n",
    "    q, p = np.split(sol.y, 2)\n",
    "    l = [params['l_0'], params['l_1'], params['l_2']]\n",
    "    m = [params['m_0'], params['m_1'], params['m_2']]\n",
    "    g = params['g']\n",
    "\n",
    "    # Translating coordinates for convenience\n",
    "    x, y = [l[0] * np.sin(q[0])], [- l[0] * np.cos(q[0])]\n",
    "    for i in range(1, N):\n",
    "        x.append(x[i - 1] + l[i] * np.sin(q[i]))\n",
    "        y.append(y[i - 1] - l[i] * np.cos(q[i]))\n",
    "\n",
    "    energy = Hamiltonian(t_eval, sol.y, *l, *m, g)\n",
    "    kinetic = Kinetic(t_eval, sol.y, *l, *m, g)\n",
    "    potential = Potential(t_eval, sol.y, *l, *m, g)\n",
    "    if verbose == 'info': print('Done!')\n",
    "    return [x, y, q, p], [energy, kinetic, potential]"
   ]
  },
  {
   "cell_type": "code",
   "execution_count": null,
   "metadata": {},
   "outputs": [],
   "source": [
    "\n",
    "def simulate(tf, fps, ics, params, verbose='info'):\n",
    "    [x, y, q, p], [energy, kinetic, potential] = solve_numeric(tf=tf, fps=fps, ics=ics, params=params, verbose=verbose)\n",
    "    energy_loss_percent = 100 * (energy - energy[0]) / energy[0]\n",
    "    if verbose == 'info': print('Creating animation... ', end='', flush=True)\n",
    "    frames = tf * fps\n",
    "    dt = tf / frames\n",
    "    t_eval = np.linspace(0, tf, frames)\n",
    "    fig = plt.figure(layout=\"constrained\", figsize=(19.2, 10.80))\n",
    "    gs = GridSpec(2, 2, figure=fig)\n",
    "    ax3 = fig.add_subplot(gs[1, 1])\n",
    "    ax2 = fig.add_subplot(gs[0, 1])\n",
    "    ax1 = fig.add_subplot(gs[:, 0])\n",
    "\n",
    "    min_x, max_x = np.min(x), np.max(x)\n",
    "    min_y, max_y = np.min(y), max([DEFAULT_PARAMS['l_1'], np.max(y)])\n",
    "    ax1.set_xlim((1.75 * min_x, 1.75 * max_x))\n",
    "    ax1.set_ylim((1.15 * min_y, 1.15 * max_y))        \n",
    "    ax1.set_aspect('equal')\n",
    "    ax1.set_xlabel(r'X [m]')\n",
    "    ax1.set_ylabel(r'Y [m]')\n",
    "    ax1.set_title('PyPendula-N3\\nWritten by: Ethan Knox')\n",
    "    ax2.set_ylabel(r'Energy Loss [%]')\n",
    "    ax2.set_xlabel(r'$t$ $[s]$')\n",
    "    ax3.set_xlabel(r'$q$ [rad]')\n",
    "    ax3.set_ylabel(r'$p$ [rad]/[s]')\n",
    "\n",
    "    ax3.plot(q[0], p[0], lw=1.5, color='red', alpha=0.5)\n",
    "    ax3.plot(q[1], p[1], lw=1.5, color='blue', alpha=0.5)\n",
    "    ax3.plot(q[2], p[2], lw=1.5, color='green', alpha=0.5)\n",
    "    particle1, = ax3.plot([], [], 'o', lw=3, color='red')\n",
    "    particle2, = ax3.plot([], [], 'o', lw=3, color='blue')\n",
    "    particle3, = ax3.plot([], [], 'o', lw=3, color='green')\n",
    "\n",
    "    ax2.plot(t_eval, energy_loss_percent, '-', lw=1.5, color='purple')\n",
    "    ax2.axhline(y=0, xmin=t_eval[0], xmax=t_eval[-1], linestyle='--', color='black')\n",
    "    energy_loss_plot, = ax2.plot([], [], 'o', lw=3, color='purple', label='Total Energy')    \n",
    "    negliblemass, = ax1.plot([], [], '-', lw=1.5, color='black')\n",
    "    mass1, = ax1.plot([], [], 'o', lw=2, color='red')\n",
    "    mass2, = ax1.plot([], [], 'o', lw=2, color='blue')\n",
    "    mass3, = ax1.plot([], [], 'o', lw=2, color='green')\n",
    "    ax2.grid()\n",
    "    ax2.legend()\n",
    "    ax3.grid()\n",
    "\n",
    "    ics_tag = 'ics=[' + ','.join((f'{ic:.6f}' for ic in ics)) + ']'\n",
    "    metadata_tag = dict(title='PyPendula', artist='Ethan Knox', comment=ics_tag)\n",
    "    file_name = './resources/pypendula_n3_' + ics_tag + '.mp4'\n",
    "\n",
    "\n",
    "    def animate(i):\n",
    "        energy_loss_plot.set_data([t_eval[i]], [energy_loss_percent[i]])\n",
    "        negliblemass.set_data(\n",
    "            [0, x[0][i], x[1][i], x[2][i]],\n",
    "            [0, y[0][i], y[1][i], y[2][i]]\n",
    "        )\n",
    "        mass3.set_data([x[2][i]], [y[2][i]])\n",
    "        mass2.set_data([x[1][i]], [y[1][i]])\n",
    "        mass1.set_data([x[0][i]], [y[0][i]])\n",
    "        particle3.set_data([q[2][i]], [p[2][i]])\n",
    "        particle2.set_data([q[1][i]], [p[1][i]])\n",
    "        particle1.set_data([q[0][i]], [p[0][i]])\n",
    "        return mass1, mass2, mass3, negliblemass, energy_loss_plot, particle1, particle2, particle3,\n",
    "    \n",
    "    \n",
    "    anim = animation.FuncAnimation(fig, animate, len(t_eval), interval=dt * 1000)\n",
    "    anim.save(file_name, progress_callback=progress_bar, metadata=metadata_tag)\n",
    "    plt.close()\n",
    "    if verbose == 'info': print('Simulation Complete!')\n",
    "    return file_name"
   ]
  },
  {
   "cell_type": "code",
   "execution_count": null,
   "metadata": {},
   "outputs": [],
   "source": [
    "sim = simulate(tf=5, fps=60, ics=DEFAULT_ICS, params=DEFAULT_PARAMS, verbose=None)\n",
    "Video(sim, html_attributes='autoplay loop')"
   ]
  },
  {
   "cell_type": "code",
   "execution_count": null,
   "metadata": {},
   "outputs": [],
   "source": [
    "def main(\n",
    "        tf=5, \n",
    "        fps=120,  # 60-120 yield acceptable results\n",
    "        params=DEFAULT_PARAMS, \n",
    "        ics=DEFAULT_ICS, \n",
    "        runs=3\n",
    "        ):\n",
    "    for run in trange(runs):\n",
    "        ics = gen_rand_ics()\n",
    "        simulate(tf=tf, fps=fps, ics=ics, params=params, verbose=None)\n",
    "    return None"
   ]
  },
  {
   "cell_type": "code",
   "execution_count": null,
   "metadata": {},
   "outputs": [],
   "source": [
    "main()"
   ]
  }
 ],
 "metadata": {
  "kernelspec": {
   "display_name": "Python 3 (ipykernel)",
   "language": "python",
   "name": "python3"
  },
  "language_info": {
   "codemirror_mode": {
    "name": "ipython",
    "version": 3
   },
   "file_extension": ".py",
   "mimetype": "text/x-python",
   "name": "python",
   "nbconvert_exporter": "python",
   "pygments_lexer": "ipython3",
   "version": "3.11.8"
  }
 },
 "nbformat": 4,
 "nbformat_minor": 4
}
