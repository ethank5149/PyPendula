{
 "cells": [
  {
   "cell_type": "code",
   "execution_count": 1,
   "metadata": {},
   "outputs": [],
   "source": [
    "from pypendula import PyPendula\n",
    "from matplotlib import pyplot as plt\n",
    "import numpy as np"
   ]
  },
  {
   "cell_type": "code",
   "execution_count": 2,
   "metadata": {},
   "outputs": [],
   "source": [
    "FPS = 120\n",
    "ALPHA = 3\n",
    "BETA = 2048"
   ]
  },
  {
   "cell_type": "code",
   "execution_count": 3,
   "metadata": {},
   "outputs": [
    {
     "name": "stdout",
     "output_type": "stream",
     "text": [
      "Solving Symbolic Problem... Done!\n",
      "Caching Solution... Done!\n",
      "Solving Numeric Problem... Done!\n",
      "Setting Up Simulation... Done!\n"
     ]
    },
    {
     "name": "stderr",
     "output_type": "stream",
     "text": [
      "MovieWriter ffmpeg unavailable; using Pillow instead.\n"
     ]
    },
    {
     "name": "stdout",
     "output_type": "stream",
     "text": [
      "Saving Animation: |████████████████████████████████████████████████████████████████████████████████████████████████----| 96.8% \r"
     ]
    },
    {
     "ename": "",
     "evalue": "",
     "output_type": "error",
     "traceback": [
      "\u001b[1;31mThe Kernel crashed while executing code in the the current cell or a previous cell. Please review the code in the cell(s) to identify a possible cause of the failure. Click <a href='https://aka.ms/vscodeJupyterKernelCrash'>here</a> for more info. View Jupyter <a href='command:jupyter.viewOutput'>log</a> for further details."
     ]
    }
   ],
   "source": [
    "p = PyPendula(fps=120, ics=np.array([np.pi / 5, np.pi / 4, np.pi / 3, 0, 0, 0]))\n",
    "# p.solve_symbolic()\n",
    "# p.solve_numeric()\n",
    "p.simulate()"
   ]
  },
  {
   "cell_type": "code",
   "execution_count": null,
   "metadata": {},
   "outputs": [],
   "source": []
  },
  {
   "cell_type": "code",
   "execution_count": null,
   "metadata": {},
   "outputs": [],
   "source": [
    "from sympy.physics.mechanics import *\n",
    "from sympy import symbols, sin, cos, atan, Matrix, simplify, solve\n",
    "from sympy.utilities import lambdify\n",
    "from functools import partial\n",
    "import numpy as np\n",
    "\n",
    "rng = np.random.default_rng()"
   ]
  },
  {
   "cell_type": "code",
   "execution_count": null,
   "metadata": {},
   "outputs": [],
   "source": [
    "N = 2\n",
    "\n",
    "q = dynamicsymbols(f'q:{N}')\n",
    "p = dynamicsymbols(f'p:{N}')\n",
    "dq = dynamicsymbols(f'q:{N}', level=1)\n",
    "dp = dynamicsymbols(f'p:{N}', level=1)\n",
    "m = symbols(f'm:{N}')\n",
    "l = symbols(f'l:{N}')\n",
    "c, g, t = symbols('c g t')\n",
    "\n",
    "# Compose World Frame\n",
    "O = ReferenceFrame('O')\n",
    "pin = Point('O*')\n",
    "pin.set_vel(O, 0)\n",
    "\n",
    "# Initial Mass\n",
    "points = [pin.locatenew(f'P_0', l[0] * sin(q[0]) * O.x + l[0] * cos(q[0]) * O.y),]\n",
    "points[0].set_vel(O, points[0].pos_from(pin).dt(O))\n",
    "particles = [Particle(f'pP_0', points[0], m[0]),]\n",
    "particles[0].potential_energy = -m[0] * g * points[0].pos_from(pin).dot(O.y)\n",
    "\n",
    "for i in range(1, N):\n",
    "    points.append(pin.locatenew(f'P_{i}', \n",
    "        points[i - 1].pos_from(pin) + l[i] * sin(q[i]) * O.x + l[i] * cos(q[i]) * O.y)\n",
    "    )\n",
    "    points[i].set_vel(O, points[i].pos_from(pin).dt(O))\n",
    "    particles.append(Particle(f'pP_{i}', points[i], m[i]))\n",
    "    particles[i].potential_energy = m[i] * g * points[i].pos_from(pin).dot(O.y)\n",
    "\n",
    "L = Lagrangian(O, *particles)\n",
    "LM = LagrangesMethod(L, q, frame=O)  # , forcelist=[(P, -c * P.vel(O))])"
   ]
  },
  {
   "cell_type": "code",
   "execution_count": null,
   "metadata": {},
   "outputs": [],
   "source": [
    "EL = simplify(LM.form_lagranges_equations().subs([(dq[_], p[_]) for _ in range(N)]))\n",
    "EL"
   ]
  },
  {
   "cell_type": "code",
   "execution_count": null,
   "metadata": {},
   "outputs": [],
   "source": [
    "EOM = simplify(LM.eom.subs([(dq[_], p[_]) for _ in range(N)]))\n",
    "EOM"
   ]
  },
  {
   "cell_type": "code",
   "execution_count": null,
   "metadata": {},
   "outputs": [],
   "source": [
    "solved_EOM = Matrix(list(solve(EOM, *dp).values()))\n",
    "solved_EOM"
   ]
  }
 ],
 "metadata": {
  "kernelspec": {
   "display_name": "Python 3 (ipykernel)",
   "language": "python",
   "name": "python3"
  },
  "language_info": {
   "codemirror_mode": {
    "name": "ipython",
    "version": 3
   },
   "file_extension": ".py",
   "mimetype": "text/x-python",
   "name": "python",
   "nbconvert_exporter": "python",
   "pygments_lexer": "ipython3",
   "version": "3.11.7"
  }
 },
 "nbformat": 4,
 "nbformat_minor": 4
}
